{
 "cells": [
  {
   "cell_type": "code",
   "execution_count": 1,
   "metadata": {},
   "outputs": [
    {
     "name": "stdout",
     "output_type": "stream",
     "text": [
      "torch: 1.13.0\n",
      "torchvisio: 0.14.0\n",
      "torchaudio: 0.13.0\n",
      "torchtext: 0.14.0\n",
      "torchdata: 0.5.1\n"
     ]
    }
   ],
   "source": [
    "import torch\n",
    "print(f\"torch: {torch.__version__}\")\n",
    "import torchvision\n",
    "print(f\"torchvisio: {torchvision.__version__}\")\n",
    "import torchaudio\n",
    "print(f\"torchaudio: {torchaudio.__version__}\")\n",
    "import torchtext\n",
    "print(f\"torchtext: {torchtext.__version__}\")\n",
    "import torchdata\n",
    "print(f\"torchdata: {torchdata.__version__}\")"
   ]
  },
  {
   "cell_type": "code",
   "execution_count": 12,
   "metadata": {},
   "outputs": [],
   "source": [
    "import torch\n",
    "import torch.nn as nn\n",
    "import torch.optim as optim\n",
    "import torch.backends.cudnn as cudnn\n",
    "import numpy as np\n",
    "import random\n",
    "\n",
    "import torchvision\n",
    "import torchvision.transforms as transforms\n",
    "\n",
    "from src.utils.optim.schedulers import CosineWarmup\n",
    "from src.models.sequence.rnns.rnn import RNN\n",
    "\n",
    "\n",
    "import os\n",
    "import argparse\n",
    "from tqdm.auto import tqdm\n",
    "\n",
    "\n",
    "# import wandb\n",
    "# wandb.login()"
   ]
  },
  {
   "cell_type": "code",
   "execution_count": 14,
   "metadata": {},
   "outputs": [
    {
     "name": "stdout",
     "output_type": "stream",
     "text": [
      "Device available now: cpu\n"
     ]
    }
   ],
   "source": [
    "# Use cuda if present\n",
    "device = torch.device(\"cuda\" if torch.cuda.is_available() else \"cpu\")\n",
    "print('Device available now:', device)\n",
    "\n",
    "if device == 'cuda':\n",
    "    cudnn.benchmark = True"
   ]
  },
  {
   "attachments": {},
   "cell_type": "markdown",
   "metadata": {},
   "source": [
    "## Defining functions"
   ]
  },
  {
   "attachments": {},
   "cell_type": "markdown",
   "metadata": {},
   "source": [
    "### Hyperparameters"
   ]
  },
  {
   "cell_type": "code",
   "execution_count": 15,
   "metadata": {},
   "outputs": [],
   "source": [
    "parser = argparse.ArgumentParser(description='PyTorch CIFAR10 Training')\n",
    "# Dataset\n",
    "parser.add_argument('--dataset', default='cifar10', choices=['cifar10', 'listops', 'imdb', 'aan', 'pathfinder'], type=str, help='Dataset')\n",
    "###! imdb refers to TEXT, ann refers to RETRIEVAL \n",
    "parser.add_argument('--grayscale', action='store_true', help='Use grayscale CIFAR10')\n",
    "\n",
    "\n",
    "# Dataloader\n",
    "parser.add_argument('--num_workers', default=0, type=int, help='Number of workers to use for dataloader')\n",
    "parser.add_argument('--batch_size', default=50, type=int, help='Batch size')\n",
    "\n",
    "\n",
    "# Optimizer\n",
    "parser.add_argument('--lr', default= 0.01, type=float, help='Learning rate') # 0.01\n",
    "parser.add_argument('--lr_factor', default= 0.25, type=float, help='Factor of Learning rate') \n",
    "parser.add_argument('--weight_decay', default=0.05, type=float, help='Weight decay')\n",
    "\n",
    "\n",
    "\n",
    "# Scheduler\n",
    "parser.add_argument('--epochs', default=200, type=float, help='Training epochs')\n",
    "\n",
    "\n",
    "# Model\n",
    "parser.add_argument('--n_layers', default=2, type=int, help='Number of layers') #6\n",
    "parser.add_argument('--d_model', default=128, type=int, help='Model dimension') #512\n",
    "parser.add_argument('--d_hidden', default=196, type=int, help='Hidden (state) dimension ') #384\n",
    "parser.add_argument('--dropout', default=0.1, type=float, help='Dropout')\n",
    "parser.add_argument('--prenorm', action='store_false', help='Prenorm')\n",
    "parser.add_argument('--norm', default= 'BN', choices=['LN', 'BN'], help='Norm types')\n",
    "parser.add_argument('--cell', default= 'rnn', type=str, help='RNN\\'s cell')\n",
    "\n",
    "\n",
    "# General\n",
    "parser.add_argument('--resume', '-r', action='store_true', help='Resume from checkpoint')\n",
    "\n",
    "# args = parser.parse_args()\n",
    "args, unknown = parser.parse_known_args()"
   ]
  },
  {
   "cell_type": "code",
   "execution_count": 18,
   "metadata": {},
   "outputs": [
    {
     "name": "stdout",
     "output_type": "stream",
     "text": [
      "Namespace(batch_size=50, cell='rnn', d_hidden=196, d_model=128, dataset='cifar10', dropout=0.1, epochs=200, grayscale=False, lr=0.01, lr_factor=0.25, n_layers=2, norm='BN', num_workers=0, prenorm=True, resume=False, weight_decay=0.05)\n"
     ]
    }
   ],
   "source": [
    "print(args)"
   ]
  },
  {
   "cell_type": "code",
   "execution_count": 19,
   "metadata": {},
   "outputs": [],
   "source": [
    "# d = RNN(d_input = 3, d_model = 5, lr = args.lr * args.lr_factor, cell = \"rnn\", return_output=True, transposed=False, dropout=0)"
   ]
  },
  {
   "cell_type": "code",
   "execution_count": 20,
   "metadata": {},
   "outputs": [],
   "source": [
    "# for i in d.parameters():\n",
    "#     print(i._optim)"
   ]
  },
  {
   "attachments": {},
   "cell_type": "markdown",
   "metadata": {},
   "source": [
    "### Datasets"
   ]
  },
  {
   "cell_type": "code",
   "execution_count": 21,
   "metadata": {},
   "outputs": [],
   "source": [
    "def split_train_val(train, val_split):\n",
    "    train_len = int(len(train) * (1.0-val_split))\n",
    "    train, val = torch.utils.data.random_split(\n",
    "        train,\n",
    "        (train_len, len(train) - train_len),\n",
    "        generator=torch.Generator().manual_seed(42),\n",
    "    )\n",
    "    return train, val"
   ]
  },
  {
   "cell_type": "code",
   "execution_count": 22,
   "metadata": {},
   "outputs": [
    {
     "name": "stdout",
     "output_type": "stream",
     "text": [
      "Files already downloaded and verified\n",
      "Files already downloaded and verified\n",
      "Files already downloaded and verified\n"
     ]
    }
   ],
   "source": [
    "if args.dataset == 'cifar10':\n",
    "    if args.grayscale:\n",
    "        transform = transforms.Compose([\n",
    "            transforms.Grayscale(),\n",
    "            transforms.ToTensor(),\n",
    "            transforms.Normalize(mean=122.6 / 255.0, std=61.0 / 255.0),\n",
    "            transforms.Lambda(lambda x: x.view(1, 1024).t())\n",
    "        ])\n",
    "    else:\n",
    "        transform = transforms.Compose([\n",
    "            transforms.ToTensor(),\n",
    "            transforms.Normalize((0.4914, 0.4822, 0.4465), (0.2023, 0.1994, 0.2010)),\n",
    "            transforms.Lambda(lambda x: x.view(3, 1024).t())\n",
    "        ])\n",
    "    \n",
    "    # S4 is trained on sequences with no data augmentation!\n",
    "    transform_train = transform_test = transform\n",
    "\n",
    "    trainset = torchvision.datasets.CIFAR10(\n",
    "        root='./data/cifar/', train=True, download=True, transform=transform_train)\n",
    "    trainset, _ = split_train_val(trainset, val_split=0.1)\n",
    "\n",
    "    valset = torchvision.datasets.CIFAR10(\n",
    "        root='./data/cifar/', train=True, download=True, transform=transform_test)\n",
    "    _, valset = split_train_val(valset, val_split=0.1)\n",
    "\n",
    "    testset = torchvision.datasets.CIFAR10(\n",
    "        root='./data/cifar/', train=False, download=True, transform=transform_test)\n",
    "\n",
    "    d_input = 3 if not args.grayscale else 1\n",
    "    d_output = 10\n",
    "\n",
    "else: raise NotImplementedError"
   ]
  },
  {
   "cell_type": "code",
   "execution_count": 23,
   "metadata": {},
   "outputs": [],
   "source": [
    "# Dataloaders\n",
    "trainloader = torch.utils.data.DataLoader(\n",
    "    trainset, batch_size=args.batch_size, shuffle=True, num_workers=args.num_workers)\n",
    "valloader = torch.utils.data.DataLoader(\n",
    "    valset, batch_size=args.batch_size, shuffle=False, num_workers=args.num_workers)\n",
    "testloader = torch.utils.data.DataLoader(\n",
    "    testset, batch_size=args.batch_size, shuffle=False, num_workers=args.num_workers)\n"
   ]
  },
  {
   "cell_type": "code",
   "execution_count": 24,
   "metadata": {},
   "outputs": [
    {
     "name": "stdout",
     "output_type": "stream",
     "text": [
      "torch.Size([50, 1024, 3]) tensor([8, 0, 7, 9, 3, 1, 3, 0, 1, 3, 4, 3, 4, 7, 6, 7, 1, 1, 4, 7, 3, 1, 9, 8,\n",
      "        7, 9, 0, 8, 8, 5, 5, 9, 3, 5, 4, 5, 9, 3, 2, 3, 6, 5, 8, 4, 0, 0, 9, 7,\n",
      "        1, 9])\n"
     ]
    }
   ],
   "source": [
    "# Taking a single batch of the images\n",
    "images, labels = next(iter(trainloader))\n",
    "print(images.size(), labels)"
   ]
  },
  {
   "cell_type": "code",
   "execution_count": 25,
   "metadata": {},
   "outputs": [
    {
     "data": {
      "text/plain": [
       "45000"
      ]
     },
     "execution_count": 25,
     "metadata": {},
     "output_type": "execute_result"
    }
   ],
   "source": [
    "len(trainset)"
   ]
  },
  {
   "cell_type": "code",
   "execution_count": 26,
   "metadata": {},
   "outputs": [
    {
     "data": {
      "text/plain": [
       "tensor([[[ 0.3817,  0.6104,  1.3880],\n",
       "         [ 0.4205,  0.6498,  1.4270],\n",
       "         [ 0.4205,  0.6498,  1.4270],\n",
       "         ...,\n",
       "         [-1.3823, -1.1399, -0.8362],\n",
       "         [-1.4017, -1.1792, -0.8167],\n",
       "         [-0.8007, -0.5892, -0.2118]],\n",
       "\n",
       "        [[ 1.1378,  1.7511,  2.3830],\n",
       "         [ 0.9827,  1.6528,  2.2660],\n",
       "         [ 0.9439,  1.6331,  2.2660],\n",
       "         ...,\n",
       "         [-1.7118, -2.1429, -1.6556],\n",
       "         [-1.6924, -2.1233, -1.5971],\n",
       "         [-1.6924, -2.1233, -1.7141]],\n",
       "\n",
       "        [[-0.0835,  1.1611,  2.1684],\n",
       "         [-0.0835,  1.1414,  2.1489],\n",
       "         [-0.0641,  1.1808,  2.1879],\n",
       "         ...,\n",
       "         [ 0.9439,  0.8464,  0.3149],\n",
       "         [ 1.0021,  0.9054,  0.3930],\n",
       "         [ 1.1184,  0.9644,  0.4710]],\n",
       "\n",
       "        ...,\n",
       "\n",
       "        [[-0.8977,  0.4138,  1.8953],\n",
       "         [-0.8783,  0.4334,  1.9538],\n",
       "         [-0.8783,  0.4334,  1.9733],\n",
       "         ...,\n",
       "         [ 1.4867, -0.2352, -0.9727],\n",
       "         [ 1.4673, -0.2942, -1.0898],\n",
       "         [ 1.4867, -0.2549, -1.1093]],\n",
       "\n",
       "        [[ 0.5756,  0.9251,  1.0368],\n",
       "         [ 0.5368,  0.8858,  0.9978],\n",
       "         [ 0.5368,  0.8858,  0.9978],\n",
       "         ...,\n",
       "         [ 0.6919,  0.3154, -0.3874],\n",
       "         [ 0.8082,  0.4334, -0.2704],\n",
       "         [ 0.8276,  0.4531, -0.2899]],\n",
       "\n",
       "        [[ 1.5836,  1.8495,  2.3245],\n",
       "         [ 1.6224,  1.8495,  2.2855],\n",
       "         [ 1.6805,  1.8691,  2.2855],\n",
       "         ...,\n",
       "         [ 0.2654,  0.1188,  0.3345],\n",
       "         [ 0.2461,  0.0794,  0.3345],\n",
       "         [ 0.2654,  0.0991,  0.3540]]])"
      ]
     },
     "execution_count": 26,
     "metadata": {},
     "output_type": "execute_result"
    }
   ],
   "source": [
    "images"
   ]
  },
  {
   "cell_type": "code",
   "execution_count": 27,
   "metadata": {},
   "outputs": [
    {
     "data": {
      "text/plain": [
       "(45000, 900)"
      ]
     },
     "execution_count": 27,
     "metadata": {},
     "output_type": "execute_result"
    }
   ],
   "source": [
    "len(trainset), len(trainloader)"
   ]
  },
  {
   "attachments": {},
   "cell_type": "markdown",
   "metadata": {},
   "source": [
    "### Model architecture"
   ]
  },
  {
   "cell_type": "code",
   "execution_count": 28,
   "metadata": {},
   "outputs": [],
   "source": [
    "class RNNbased(nn.Module):\n",
    "\n",
    "    def __init__(\n",
    "        self,\n",
    "        d_input,\n",
    "        d_output,\n",
    "        lr,\n",
    "        cell='rnn',\n",
    "        d_model=256,\n",
    "        d_hidden=128,\n",
    "        n_layers=2,\n",
    "        dropout=0.2,\n",
    "        prenorm=True,\n",
    "    ):\n",
    "        super().__init__()\n",
    "\n",
    "        self.prenorm = prenorm\n",
    "\n",
    "        # Linear encoder (d_input = 1 for grayscale and 3 for RGB) (like embedding layer)\n",
    "        self.encoder = nn.Linear(d_input, d_model)\n",
    "\n",
    "        # Stack S4 layers as residual blocks\n",
    "        self.layers = nn.ModuleList()\n",
    "        self.norms = nn.ModuleList()\n",
    "        self.dropouts = nn.ModuleList()\n",
    "        self.FFNs = nn.ModuleList()\n",
    "\n",
    "        for _ in range(n_layers):\n",
    "            self.layers.append(\n",
    "                RNN(d_input = d_model, d_model = d_hidden, lr = lr, cell = cell, return_output=True, transposed=True, dropout=0)\n",
    "            )\n",
    "            # self.norms.append(nn.LayerNorm(d_model))\n",
    "            self.norms.append(nn.BatchNorm1d(d_model)) \n",
    "            self.dropouts.append(nn.Dropout1d(dropout))\n",
    "            self.FFNs.append(nn.Sequential(nn.Conv1d(d_hidden, d_model*2, kernel_size= 1 ), nn.GLU(dim=-2))  #                \n",
    "                                 )\n",
    "\n",
    "        # Linear decoder\n",
    "        self.decoder = nn.Linear(d_model, d_output)\n",
    "\n",
    "    def forward(self, x):\n",
    "        \"\"\"\n",
    "        Input x is shape (B, L, d_input)\n",
    "        \"\"\"\n",
    "        x = self.encoder(x)  # (B, L, d_input) -> (B, L, d_model)\n",
    "        x = x.transpose(-1, -2)  # (B, L, d_model) -> (B, d_model, L)\n",
    "        \n",
    "\n",
    "        for layer, norm, dropout, FFN in zip(self.layers, self.norms, self.dropouts, self.FFNs):\n",
    "            ''' Each iteration of this loop will map (B, d_model, L) -> (B, d_model, L) '''\n",
    "\n",
    "            \n",
    "            z = x #(B, d_model, L) -> (B, d_model, L) \n",
    "            if self.prenorm:\n",
    "                # Prenorm (BN)\n",
    "                z = norm(z) # (B, d_model, L) -> (B, d_model, L) \n",
    "\n",
    "            # Apply recurrence: we ignore the state input and output\n",
    "            z, _ = layer(z) #(B, d_model, L) -> (B, d_model, L) (note that we transpose the input inside the layer)\n",
    "\n",
    "            \n",
    "            # Dropout on the output of the MLP \n",
    "            z = dropout(z) #(B, d_model, L) -> (B, d_model, L) for dropout1d\n",
    "            \n",
    "            # MLP +GLP\n",
    "            z = FFN(z) #(B, d_model, L) -> (B, d_model, L) for conv1d\n",
    "\n",
    "            # Residual connection\n",
    "            x = z + x  #(B, d_model, L) -> (B, d_model, L)\n",
    "\n",
    "            if not self.prenorm:\n",
    "                # Post-norm (BN)\n",
    "                x = norm(x) #(B, d_model, L) -> (B, d_model, L)\n",
    "                \n",
    "        # Pooling: average pooling over the sequence length\n",
    "        x = x.transpose(-1, -2)\n",
    "        x = x.mean(dim=1) # (B, L, d_model) -> (B, d_model)\n",
    "\n",
    "        # Decode the outputs\n",
    "        x = self.decoder(x)  # (B, d_model) -> (B, d_output)\n",
    "\n",
    "        return x"
   ]
  },
  {
   "cell_type": "code",
   "execution_count": 32,
   "metadata": {},
   "outputs": [
    {
     "name": "stdout",
     "output_type": "stream",
     "text": [
      "RNNbased(\n",
      "  (encoder): Linear(in_features=3, out_features=128, bias=True)\n",
      "  (layers): ModuleList(\n",
      "    (0): RNN(\n",
      "      (cell): RNNCell(\n",
      "        (W_hx): Linear(in_features=128, out_features=196, bias=False)\n",
      "        (activate): Tanh()\n",
      "        (W_hh): Linear(in_features=196, out_features=196, bias=False)\n",
      "      )\n",
      "    )\n",
      "    (1): RNN(\n",
      "      (cell): RNNCell(\n",
      "        (W_hx): Linear(in_features=128, out_features=196, bias=False)\n",
      "        (activate): Tanh()\n",
      "        (W_hh): Linear(in_features=196, out_features=196, bias=False)\n",
      "      )\n",
      "    )\n",
      "  )\n",
      "  (norms): ModuleList(\n",
      "    (0): BatchNorm1d(128, eps=1e-05, momentum=0.1, affine=True, track_running_stats=True)\n",
      "    (1): BatchNorm1d(128, eps=1e-05, momentum=0.1, affine=True, track_running_stats=True)\n",
      "  )\n",
      "  (dropouts): ModuleList(\n",
      "    (0): Dropout1d(p=0.1, inplace=False)\n",
      "    (1): Dropout1d(p=0.1, inplace=False)\n",
      "  )\n",
      "  (FFNs): ModuleList(\n",
      "    (0): Sequential(\n",
      "      (0): Conv1d(196, 256, kernel_size=(1,), stride=(1,))\n",
      "      (1): GLU(dim=-2)\n",
      "    )\n",
      "    (1): Sequential(\n",
      "      (0): Conv1d(196, 256, kernel_size=(1,), stride=(1,))\n",
      "      (1): GLU(dim=-2)\n",
      "    )\n",
      "  )\n",
      "  (decoder): Linear(in_features=128, out_features=10, bias=True)\n",
      ")\n"
     ]
    }
   ],
   "source": [
    "example = RNNbased(d_input=d_input, \n",
    "                   d_output=d_output, \n",
    "                   cell='rnn',\n",
    "                   lr = args.lr * args.lr_factor,\n",
    "                   d_model=args.d_model, \n",
    "                   d_hidden=args.d_hidden, \n",
    "                   n_layers=args.n_layers, \n",
    "                   dropout=args.dropout, \n",
    "                   prenorm=args.prenorm)\n",
    "print(example)"
   ]
  },
  {
   "cell_type": "code",
   "execution_count": 33,
   "metadata": {},
   "outputs": [],
   "source": [
    "def setup_optimizer(model, lr, weight_decay, epochs):\n",
    "    # All parameters in the model\n",
    "    all_parameters = list(model.parameters())\n",
    "\n",
    "    # General parameters don't contain the special _optim key\n",
    "    params = [p for p in all_parameters if not hasattr(p, \"_optim\")]\n",
    "\n",
    "    # Create an optimizer with the general parameters\n",
    "    optimizer = optim.AdamW(params, lr=lr, weight_decay=weight_decay)\n",
    "\n",
    "    # Add parameters with special hyperparameters\n",
    "    hps = [getattr(p, \"_optim\") for p in all_parameters if hasattr(p, \"_optim\")]\n",
    "        # e.g., p could be {'weight_decay': 0.0, 'lr': 1e-07}\n",
    "    hps = [\n",
    "        dict(s) for s in sorted(list(dict.fromkeys(frozenset(hp.items()) for hp in hps)))\n",
    "    ]  # Unique dicts \n",
    "    \n",
    "    \n",
    "    for hp in hps: \n",
    "        params = [p for p in all_parameters if getattr(p, \"_optim\", None) == hp] ## select parameter matrices that have \"_optim\" and assign \"_optim = None\" to matrices that do not have\n",
    "        optimizer.add_param_group(\n",
    "            {\"params\": params, **hp} ## <**hp> referes to hyperparameters e.g., {'weight_decay': 0.0}\n",
    "        )\n",
    "\n",
    "    # Create a lr scheduler\n",
    "    # scheduler = torch.optim.lr_scheduler.ReduceLROnPlateau(optimizer, patience=patience, factor=0.2)\n",
    "    # scheduler = torch.optim.lr_scheduler.CosineAnnealingLR(optimizer, epochs)\n",
    "    scheduler = CosineWarmup(optimizer, T_max = epochs, eta_min= 1e-7, warmup_step= int(epochs * 0.1) + 1) \n",
    "\n",
    "    ''' Print optimizer info '''\n",
    "    keys = sorted(set([k for hp in hps for k in hp.keys()]))\n",
    "    \n",
    "    \n",
    "    for i, g in enumerate(optimizer.param_groups):\n",
    "        group_hps = {k: g.get(k, None) for k in keys}\n",
    "        print(' | '.join([\n",
    "            f\"Optimizer group {i}\",\n",
    "            f\"{len(g['params'])} tensors\",\n",
    "        ] + [f\"{k} {v}\" for k, v in group_hps.items()]))\n",
    "\n",
    "    return optimizer, scheduler"
   ]
  },
  {
   "cell_type": "code",
   "execution_count": 34,
   "metadata": {},
   "outputs": [
    {
     "name": "stdout",
     "output_type": "stream",
     "text": [
      "Optimizer group 0 | 12 tensors | lr 0.0004761904761904762 | weight_decay 0.05\n",
      "Optimizer group 1 | 4 tensors | lr 0.00011904761904761905 | weight_decay 0.0\n"
     ]
    }
   ],
   "source": [
    "# example\n",
    "optimizer, scheduler = setup_optimizer(\n",
    "    example, lr=args.lr, weight_decay=args.weight_decay, epochs=args.epochs\n",
    ")"
   ]
  },
  {
   "cell_type": "code",
   "execution_count": 35,
   "metadata": {},
   "outputs": [
    {
     "data": {
      "text/plain": [
       "<src.utils.optim.schedulers.CosineWarmup at 0x7f7b11d42490>"
      ]
     },
     "execution_count": 35,
     "metadata": {},
     "output_type": "execute_result"
    }
   ],
   "source": [
    "scheduler"
   ]
  },
  {
   "cell_type": "code",
   "execution_count": 37,
   "metadata": {},
   "outputs": [
    {
     "data": {
      "image/png": "[encoded data removed]",
      "text/plain": [
       "<Figure size 720x360 with 1 Axes>"
      ]
     },
     "metadata": {
      "needs_background": "light"
     },
     "output_type": "display_data"
    }
   ],
   "source": [
    "import matplotlib.pyplot as plt\n",
    "from matplotlib.ticker import MultipleLocator\n",
    "\n",
    "LEARNING_RATE = args.lr\n",
    "EPOCHS = args.epochs\n",
    "STEPS_IN_EPOCH = 1\n",
    "\n",
    "# Set model and optimizer\n",
    "model = torch.nn.Linear(2, 1)\n",
    "optimizer = optim.AdamW(model.parameters(), lr=args.lr, weight_decay= args.weight_decay)\n",
    "\n",
    "# Define your scheduler here as described above\n",
    "# scheduler = torch.optim.lr_scheduler.CosineAnnealingLR(optimizer, args.epochs)\n",
    "scheduler = CosineWarmup(optimizer, T_max = args.epochs, eta_min= 1e-7, warmup_step= 2) \n",
    "\n",
    "# Get learning rates as each training step\n",
    "learning_rates = []\n",
    "\n",
    "for i in range(EPOCHS*STEPS_IN_EPOCH):\n",
    "    optimizer.step()\n",
    "    learning_rates.append(optimizer.param_groups[0][\"lr\"])\n",
    "    scheduler.step()\n",
    "\n",
    "# Visualize learinig rate scheduler\n",
    "fig, ax = plt.subplots(1,1, figsize=(10,5))\n",
    "ax.plot(range(EPOCHS*STEPS_IN_EPOCH), \n",
    "        learning_rates,\n",
    "        marker='o', \n",
    "        color='black')\n",
    "ax.set_xlim([0, EPOCHS*STEPS_IN_EPOCH])\n",
    "ax.set_ylim([0, LEARNING_RATE + 0.0001])\n",
    "ax.set_xlabel('Steps')\n",
    "ax.set_ylabel('Learning Rate')\n",
    "ax.spines['top'].set_visible(False)\n",
    "ax.spines['right'].set_visible(False)\n",
    "ax.xaxis.set_major_locator(MultipleLocator(STEPS_IN_EPOCH))\n",
    "ax.xaxis.set_minor_locator(MultipleLocator(1))\n",
    "plt.show()"
   ]
  },
  {
   "cell_type": "code",
   "execution_count": 39,
   "metadata": {},
   "outputs": [
    {
     "data": {
      "text/plain": [
       "0.005"
      ]
     },
     "execution_count": 39,
     "metadata": {},
     "output_type": "execute_result"
    }
   ],
   "source": [
    "5e-3"
   ]
  },
  {
   "cell_type": "code",
   "execution_count": 40,
   "metadata": {},
   "outputs": [
    {
     "data": {
      "text/plain": [
       "0.00025"
      ]
     },
     "execution_count": 40,
     "metadata": {},
     "output_type": "execute_result"
    }
   ],
   "source": [
    "1e-3 * 0.25"
   ]
  },
  {
   "cell_type": "code",
   "execution_count": null,
   "metadata": {},
   "outputs": [],
   "source": [
    "0.005"
   ]
  },
  {
   "attachments": {},
   "cell_type": "markdown",
   "metadata": {},
   "source": [
    "### Training"
   ]
  },
  {
   "cell_type": "code",
   "execution_count": 19,
   "metadata": {},
   "outputs": [],
   "source": [
    "# Training\n",
    "def train(model, optimizer,  criterion):\n",
    "    model.train()\n",
    "    train_loss = 0\n",
    "    correct = 0\n",
    "    total = 0\n",
    "    pbar = tqdm(enumerate(trainloader))\n",
    "    print_every = 50\n",
    "\n",
    "    for batch_idx, (inputs, targets) in pbar:\n",
    "        inputs, targets = inputs.to(device), targets.to(device)\n",
    "        optimizer.zero_grad()\n",
    "        outputs = model(inputs)\n",
    "        loss = criterion(outputs, targets)\n",
    "        loss.backward()\n",
    "        optimizer.step()\n",
    "\n",
    "        train_loss += loss.item()\n",
    "        _, predicted = outputs.max(1)\n",
    "        total += targets.size(0)\n",
    "        correct += predicted.eq(targets).sum().item()\n",
    "\n",
    "        wandb.log({\"Train/Batch loss\": train_loss/(batch_idx+1)})\n",
    "\n",
    "        if (batch_idx % print_every) == 0:\n",
    "            print(f\"Batch: {batch_idx}, Avg: {train_loss/(batch_idx+1)}\")\n",
    "        \n",
    "        pbar.set_description(\n",
    "            'Batch Idx: (%d/%d) | Loss: %.3f | Acc: %.3f%% (%d/%d)' %\n",
    "            (batch_idx, len(trainloader), train_loss/(batch_idx+1), 100.*correct/total, correct, total)\n",
    "        )\n",
    "    return train_loss/(batch_idx+1)\n",
    "\n",
    "\n",
    "\n",
    "def eval(model, criterion, dataloader):\n",
    "    global best_acc\n",
    "    model.eval()\n",
    "    eval_loss = 0\n",
    "    correct = 0\n",
    "    total = 0\n",
    "    with torch.no_grad():\n",
    "        pbar = tqdm(enumerate(dataloader))\n",
    "        for batch_idx, (inputs, targets) in pbar:\n",
    "            inputs, targets = inputs.to(device), targets.to(device)\n",
    "            outputs = model(inputs)\n",
    "            loss = criterion(outputs, targets)\n",
    "\n",
    "            eval_loss += loss.item()\n",
    "            _, predicted = outputs.max(1)\n",
    "            total += targets.size(0)\n",
    "            correct += predicted.eq(targets).sum().item()\n",
    "\n",
    "\n",
    "            pbar.set_description(\n",
    "                'Batch Idx: (%d/%d) | Loss: %.3f | Acc: %.3f%% (%d/%d)' %\n",
    "                (batch_idx, len(dataloader), eval_loss/(batch_idx+1), 100.*correct/total, correct, total)\n",
    "            )\n",
    "            \n",
    "        return 100.*correct/total"
   ]
  },
  {
   "cell_type": "markdown",
   "metadata": {},
   "source": [
    "Loss"
   ]
  },
  {
   "cell_type": "code",
   "execution_count": 20,
   "metadata": {},
   "outputs": [
    {
     "name": "stdout",
     "output_type": "stream",
     "text": [
      "./checkpoint/checkpoint_5pmj4d8b.pth\n"
     ]
    }
   ],
   "source": [
    "best_acc = 0  # best test accuracy\n",
    "start_epoch = 0  # start from epoch 0 or last checkpoint epoch\n",
    "run_id = wandb.util.generate_id()\n",
    "CHECKPOINT_PATH = f'./checkpoint/checkpoint_{run_id}.pth'\n",
    "print(CHECKPOINT_PATH)"
   ]
  },
  {
   "cell_type": "code",
   "execution_count": 21,
   "metadata": {},
   "outputs": [
    {
     "data": {
      "text/html": [
       "Tracking run with wandb version 0.15.2"
      ],
      "text/plain": [
       "<IPython.core.display.HTML object>"
      ]
     },
     "metadata": {},
     "output_type": "display_data"
    },
    {
     "data": {
      "text/html": [
       "Run data is saved locally in <code>/Users/zhouyuqin/Desktop/Thesis/experiments/wandb/run-20230512_191758-5pmj4d8b</code>"
      ],
      "text/plain": [
       "<IPython.core.display.HTML object>"
      ]
     },
     "metadata": {},
     "output_type": "display_data"
    },
    {
     "data": {
      "text/html": [
       "Syncing run <strong><a href='https://wandb.ai/yuqinzhou/test/runs/5pmj4d8b' target=\"_blank\">RNN_Vanilla_0</a></strong> to <a href='https://wandb.ai/yuqinzhou/test' target=\"_blank\">Weights & Biases</a> (<a href='https://wandb.me/run' target=\"_blank\">docs</a>)<br/>"
      ],
      "text/plain": [
       "<IPython.core.display.HTML object>"
      ]
     },
     "metadata": {},
     "output_type": "display_data"
    },
    {
     "data": {
      "text/html": [
       " View project at <a href='https://wandb.ai/yuqinzhou/test' target=\"_blank\">https://wandb.ai/yuqinzhou/test</a>"
      ],
      "text/plain": [
       "<IPython.core.display.HTML object>"
      ]
     },
     "metadata": {},
     "output_type": "display_data"
    },
    {
     "data": {
      "text/html": [
       " View run at <a href='https://wandb.ai/yuqinzhou/test/runs/5pmj4d8b' target=\"_blank\">https://wandb.ai/yuqinzhou/test/runs/5pmj4d8b</a>"
      ],
      "text/plain": [
       "<IPython.core.display.HTML object>"
      ]
     },
     "metadata": {},
     "output_type": "display_data"
    },
    {
     "name": "stdout",
     "output_type": "stream",
     "text": [
      "==> Building model / ...\n",
      "Optimizer group 0 | 12 tensors | lr 0.0004761904761904762 | weight_decay 0.05\n",
      "Optimizer group 1 | 4 tensors | lr 0.00011904761904761905 | weight_decay 0.0\n"
     ]
    },
    {
     "name": "stderr",
     "output_type": "stream",
     "text": [
      "Epoch: 0:   0%|          | 0/200 [00:00<?, ?it/s]"
     ]
    },
    {
     "name": "stdout",
     "output_type": "stream",
     "text": [
      "==> Training...\n"
     ]
    },
    {
     "name": "stderr",
     "output_type": "stream",
     "text": []
    },
    {
     "name": "stdout",
     "output_type": "stream",
     "text": [
      "Batch: 0, Avg: 2.418267011642456\n"
     ]
    },
    {
     "name": "stderr",
     "output_type": "stream",
     "text": []
    },
    {
     "name": "stdout",
     "output_type": "stream",
     "text": [
      "Batch: 50, Avg: 2.1103724848990346\n"
     ]
    },
    {
     "name": "stderr",
     "output_type": "stream",
     "text": []
    },
    {
     "name": "stdout",
     "output_type": "stream",
     "text": [
      "Batch: 100, Avg: 2.0617622266901603\n"
     ]
    },
    {
     "name": "stderr",
     "output_type": "stream",
     "text": [
      "Batch Idx: (137/900) | Loss: 2.045 | Acc: 23.232% (1603/6900): : 138it [06:23,  2.78s/it]\n",
      "Epoch: 0:   0%|          | 0/200 [06:23<?, ?it/s]\n"
     ]
    },
    {
     "ename": "KeyboardInterrupt",
     "evalue": "",
     "output_type": "error",
     "traceback": [
      "\u001b[0;31m---------------------------------------------------------------------------\u001b[0m",
      "\u001b[0;31mKeyboardInterrupt\u001b[0m                         Traceback (most recent call last)",
      "\u001b[1;32m/Users/zhouyuqin/Desktop/Thesis/experiments/T_lra_cifar_wandb.ipynb Cell 26\u001b[0m in \u001b[0;36m<cell line: 2>\u001b[0;34m()\u001b[0m\n\u001b[1;32m     <a href='vscode-notebook-cell:/Users/zhouyuqin/Desktop/Thesis/experiments/T_lra_cifar_wandb.ipynb#X32sZmlsZQ%3D%3D?line=50'>51</a>\u001b[0m     pbar\u001b[39m.\u001b[39mset_description(\u001b[39m'\u001b[39m\u001b[39mEpoch: \u001b[39m\u001b[39m%d\u001b[39;00m\u001b[39m | Val acc: \u001b[39m\u001b[39m%1.3f\u001b[39;00m\u001b[39m'\u001b[39m \u001b[39m%\u001b[39m (epoch, val_acc))\n\u001b[1;32m     <a href='vscode-notebook-cell:/Users/zhouyuqin/Desktop/Thesis/experiments/T_lra_cifar_wandb.ipynb#X32sZmlsZQ%3D%3D?line=53'>54</a>\u001b[0m \u001b[39mprint\u001b[39m(\u001b[39m'\u001b[39m\u001b[39m==> Training...\u001b[39m\u001b[39m'\u001b[39m)\n\u001b[0;32m---> <a href='vscode-notebook-cell:/Users/zhouyuqin/Desktop/Thesis/experiments/T_lra_cifar_wandb.ipynb#X32sZmlsZQ%3D%3D?line=54'>55</a>\u001b[0m epoch_loss \u001b[39m=\u001b[39m train(model \u001b[39m=\u001b[39;49m model,optimizer \u001b[39m=\u001b[39;49m optimizer, criterion \u001b[39m=\u001b[39;49m nn\u001b[39m.\u001b[39;49mCrossEntropyLoss())\n\u001b[1;32m     <a href='vscode-notebook-cell:/Users/zhouyuqin/Desktop/Thesis/experiments/T_lra_cifar_wandb.ipynb#X32sZmlsZQ%3D%3D?line=55'>56</a>\u001b[0m wandb\u001b[39m.\u001b[39mlog({\u001b[39m\"\u001b[39m\u001b[39mEpoch\u001b[39m\u001b[39m\"\u001b[39m: epoch, \u001b[39m\"\u001b[39m\u001b[39mTrain/Epoch Loss\u001b[39m\u001b[39m\"\u001b[39m: epoch_loss})\n\u001b[1;32m     <a href='vscode-notebook-cell:/Users/zhouyuqin/Desktop/Thesis/experiments/T_lra_cifar_wandb.ipynb#X32sZmlsZQ%3D%3D?line=58'>59</a>\u001b[0m \u001b[39mprint\u001b[39m(\u001b[39m'\u001b[39m\u001b[39m==> Validating...\u001b[39m\u001b[39m'\u001b[39m)\n",
      "\u001b[1;32m/Users/zhouyuqin/Desktop/Thesis/experiments/T_lra_cifar_wandb.ipynb Cell 26\u001b[0m in \u001b[0;36mtrain\u001b[0;34m(model, optimizer, criterion)\u001b[0m\n\u001b[1;32m     <a href='vscode-notebook-cell:/Users/zhouyuqin/Desktop/Thesis/experiments/T_lra_cifar_wandb.ipynb#X32sZmlsZQ%3D%3D?line=12'>13</a>\u001b[0m outputs \u001b[39m=\u001b[39m model(inputs)\n\u001b[1;32m     <a href='vscode-notebook-cell:/Users/zhouyuqin/Desktop/Thesis/experiments/T_lra_cifar_wandb.ipynb#X32sZmlsZQ%3D%3D?line=13'>14</a>\u001b[0m loss \u001b[39m=\u001b[39m criterion(outputs, targets)\n\u001b[0;32m---> <a href='vscode-notebook-cell:/Users/zhouyuqin/Desktop/Thesis/experiments/T_lra_cifar_wandb.ipynb#X32sZmlsZQ%3D%3D?line=14'>15</a>\u001b[0m loss\u001b[39m.\u001b[39;49mbackward()\n\u001b[1;32m     <a href='vscode-notebook-cell:/Users/zhouyuqin/Desktop/Thesis/experiments/T_lra_cifar_wandb.ipynb#X32sZmlsZQ%3D%3D?line=15'>16</a>\u001b[0m optimizer\u001b[39m.\u001b[39mstep()\n\u001b[1;32m     <a href='vscode-notebook-cell:/Users/zhouyuqin/Desktop/Thesis/experiments/T_lra_cifar_wandb.ipynb#X32sZmlsZQ%3D%3D?line=17'>18</a>\u001b[0m train_loss \u001b[39m+\u001b[39m\u001b[39m=\u001b[39m loss\u001b[39m.\u001b[39mitem()\n",
      "File \u001b[0;32m~/opt/anaconda3/lib/python3.8/site-packages/torch/_tensor.py:487\u001b[0m, in \u001b[0;36mTensor.backward\u001b[0;34m(self, gradient, retain_graph, create_graph, inputs)\u001b[0m\n\u001b[1;32m    477\u001b[0m \u001b[39mif\u001b[39;00m has_torch_function_unary(\u001b[39mself\u001b[39m):\n\u001b[1;32m    478\u001b[0m     \u001b[39mreturn\u001b[39;00m handle_torch_function(\n\u001b[1;32m    479\u001b[0m         Tensor\u001b[39m.\u001b[39mbackward,\n\u001b[1;32m    480\u001b[0m         (\u001b[39mself\u001b[39m,),\n\u001b[0;32m   (...)\u001b[0m\n\u001b[1;32m    485\u001b[0m         inputs\u001b[39m=\u001b[39minputs,\n\u001b[1;32m    486\u001b[0m     )\n\u001b[0;32m--> 487\u001b[0m torch\u001b[39m.\u001b[39;49mautograd\u001b[39m.\u001b[39;49mbackward(\n\u001b[1;32m    488\u001b[0m     \u001b[39mself\u001b[39;49m, gradient, retain_graph, create_graph, inputs\u001b[39m=\u001b[39;49minputs\n\u001b[1;32m    489\u001b[0m )\n",
      "File \u001b[0;32m~/opt/anaconda3/lib/python3.8/site-packages/torch/autograd/__init__.py:197\u001b[0m, in \u001b[0;36mbackward\u001b[0;34m(tensors, grad_tensors, retain_graph, create_graph, grad_variables, inputs)\u001b[0m\n\u001b[1;32m    192\u001b[0m     retain_graph \u001b[39m=\u001b[39m create_graph\n\u001b[1;32m    194\u001b[0m \u001b[39m# The reason we repeat same the comment below is that\u001b[39;00m\n\u001b[1;32m    195\u001b[0m \u001b[39m# some Python versions print out the first line of a multi-line function\u001b[39;00m\n\u001b[1;32m    196\u001b[0m \u001b[39m# calls in the traceback and some print out the last line\u001b[39;00m\n\u001b[0;32m--> 197\u001b[0m Variable\u001b[39m.\u001b[39;49m_execution_engine\u001b[39m.\u001b[39;49mrun_backward(  \u001b[39m# Calls into the C++ engine to run the backward pass\u001b[39;49;00m\n\u001b[1;32m    198\u001b[0m     tensors, grad_tensors_, retain_graph, create_graph, inputs,\n\u001b[1;32m    199\u001b[0m     allow_unreachable\u001b[39m=\u001b[39;49m\u001b[39mTrue\u001b[39;49;00m, accumulate_grad\u001b[39m=\u001b[39;49m\u001b[39mTrue\u001b[39;49;00m)\n",
      "\u001b[0;31mKeyboardInterrupt\u001b[0m: "
     ]
    }
   ],
   "source": [
    "total_runs = 1\n",
    "for run in range(total_runs):\n",
    "    wandb.init(\n",
    "        id= run_id,\n",
    "        project=\"test\", \n",
    "        # Model + Cell + Run\n",
    "        name=f\"RNN_Vanilla_{run}\", \n",
    "        config=args,\n",
    "        resume = 'allow')\n",
    "    \n",
    "    # defining model (resume or not)\n",
    "    if not wandb.run.resumed:\n",
    "        print('==> Building model / ...')\n",
    "        model = RNNbased(d_input=d_input, \n",
    "                    d_output=d_output, \n",
    "                    lr = args.lr * args.lr_factor,\n",
    "                    cell='rnn',\n",
    "                    d_model=args.d_model, \n",
    "                    d_hidden=args.d_hidden, \n",
    "                    n_layers=args.n_layers, \n",
    "                    dropout=args.dropout, \n",
    "                    prenorm=args.prenorm)\n",
    "        \n",
    "        optimizer, scheduler = setup_optimizer(model, lr=args.lr, weight_decay=args.weight_decay, epochs=args.epochs)\n",
    "        # optimizer = optim.AdamW(model.parameters(), lr= args.lr, weight_decay= args.weight_decay)\n",
    "        # scheduler = CosineWarmup(optimizer, T_max = args.epochs, eta_min= 1e-7, warmup_step= int(args.epochs * 0.1) + 1) \n",
    "        \n",
    "    else:\n",
    "        print('==> Resuming from checkpoint...')\n",
    "        checkpoint = torch.load(CHECKPOINT_PATH) #not use wandb.restore('checkpoint.tar') because of encoding error\n",
    "        \n",
    "        model.load_state_dict(checkpoint['model_state_dict'])\n",
    "        optimizer.load_state_dict(checkpoint['optimizer_state_dict'])\n",
    "        scheduler.load_state_dict(checkpoint['scheduler_state_dict'])\n",
    "        best_acc = checkpoint['acc']\n",
    "        start_epoch = checkpoint['epoch']\n",
    "        \n",
    "    model = model.to(device)\n",
    "\n",
    "    \n",
    "\n",
    "    ## defining training, validating and testing\n",
    "    pbar = tqdm(range(start_epoch, args.epochs))\n",
    "    for epoch in pbar:\n",
    "        wandb.log({\"Epoch\": epoch, \"lr_general\": scheduler.get_last_lr()[0]}) #record general lr for the current lr\n",
    "        wandb.log({\"Epoch\": epoch, \"lr_special\": scheduler.get_last_lr()[1]}) #record special lr for the current lr\n",
    "        \n",
    "        if epoch == 0:\n",
    "            pbar.set_description('Epoch: %d' % (epoch))\n",
    "        else:\n",
    "            pbar.set_description('Epoch: %d | Val acc: %1.3f' % (epoch, val_acc))\n",
    "\n",
    "\n",
    "        print('==> Training...')\n",
    "        epoch_loss = train(model = model,optimizer = optimizer, criterion = nn.CrossEntropyLoss())\n",
    "        wandb.log({\"Epoch\": epoch, \"Train/Epoch Loss\": epoch_loss})\n",
    "\n",
    "\n",
    "        print('==> Validating...')\n",
    "        val_acc = eval(model = model, criterion = nn.CrossEntropyLoss(), dataloader = valloader)\n",
    "        wandb.log({\"Epoch\": epoch, \"Val/Val acc\": val_acc})\n",
    "        \n",
    "        scheduler.step() #update lr\n",
    "        \n",
    "        #Save checkpoints\n",
    "        if val_acc > best_acc:\n",
    "            state = {\n",
    "                'model_state_dict': model.state_dict(),\n",
    "                'optimizer_state_dict': optimizer.state_dict(),\n",
    "                'scheduler_state_dict': scheduler.state_dict(), # record lr for the next epoch\n",
    "                'acc': val_acc,\n",
    "                'epoch': epoch,\n",
    "\n",
    "            }\n",
    "            if not os.path.isdir('checkpoint'):\n",
    "                os.mkdir('checkpoint')\n",
    "                \n",
    "            torch.save(state, CHECKPOINT_PATH)\n",
    "            # wandb.save(CHECKPOINT_PATH)\n",
    "            best_acc = val_acc\n",
    "    \n",
    "    print('==> Testing...')\n",
    "    test_acc = eval(model = model, criterion = nn.CrossEntropyLoss(), dataloader = testloader)\n",
    "    wandb.log({\"Test/Test acc\": test_acc})\n",
    "    \n",
    "    # Mark the run as finished\n",
    "    wandb.finish()"
   ]
  },
  {
   "cell_type": "code",
   "execution_count": null,
   "metadata": {},
   "outputs": [],
   "source": []
  },
  {
   "cell_type": "code",
   "execution_count": null,
   "metadata": {},
   "outputs": [],
   "source": []
  }
 ],
 "metadata": {
  "kernelspec": {
   "display_name": "base",
   "language": "python",
   "name": "python3"
  },
  "language_info": {
   "codemirror_mode": {
    "name": "ipython",
    "version": 3
   },
   "file_extension": ".py",
   "mimetype": "text/x-python",
   "name": "python",
   "nbconvert_exporter": "python",
   "pygments_lexer": "ipython3",
   "version": "3.8.13"
  },
  "orig_nbformat": 4
 },
 "nbformat": 4,
 "nbformat_minor": 2
}
